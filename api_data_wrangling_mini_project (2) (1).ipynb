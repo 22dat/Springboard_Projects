{
 "cells": [
  {
   "cell_type": "markdown",
   "metadata": {},
   "source": [
    "This exercise will require you to pull some data from the Qunadl API. Qaundl is currently the most widely used aggregator of financial market data."
   ]
  },
  {
   "cell_type": "markdown",
   "metadata": {},
   "source": [
    "As a first step, you will need to register a free account on the http://www.quandl.com website."
   ]
  },
  {
   "cell_type": "markdown",
   "metadata": {},
   "source": [
    "After you register, you will be provided with a unique API key, that you should store:"
   ]
  },
  {
   "cell_type": "code",
   "execution_count": 3,
   "metadata": {
    "jupyter": {
     "outputs_hidden": true
    }
   },
   "outputs": [],
   "source": [
    "# Store the API key as a string - according to PEP8, constants are always named in all upper case\n",
    "API_KEY = 'TExdGJqoVsdKNEsCA__x'"
   ]
  },
  {
   "cell_type": "markdown",
   "metadata": {},
   "source": [
    "Qaundl has a large number of data sources, but, unfortunately, most of them require a Premium subscription. Still, there are also a good number of free datasets."
   ]
  },
  {
   "cell_type": "markdown",
   "metadata": {},
   "source": [
    "For this mini project, we will focus on equities data from the Frankfurt Stock Exhange (FSE), which is available for free. We'll try and analyze the stock prices of a company called Carl Zeiss Meditec, which manufactures tools for eye examinations, as well as medical lasers for laser eye surgery: https://www.zeiss.com/meditec/int/home.html. The company is listed under the stock ticker AFX_X."
   ]
  },
  {
   "cell_type": "markdown",
   "metadata": {},
   "source": [
    "You can find the detailed Quandl API instructions here: https://docs.quandl.com/docs/time-series"
   ]
  },
  {
   "cell_type": "markdown",
   "metadata": {},
   "source": [
    "While there is a dedicated Python package for connecting to the Quandl API, we would prefer that you use the *requests* package, which can be easily downloaded using *pip* or *conda*. You can find the documentation for the package here: http://docs.python-requests.org/en/master/ "
   ]
  },
  {
   "cell_type": "markdown",
   "metadata": {},
   "source": [
    "Finally, apart from the *requests* package, you are encouraged to not use any third party Python packages, such as *pandas*, and instead focus on what's available in the Python Standard Library (the *collections* module might come in handy: https://pymotw.com/3/collections/ ).\n",
    "Also, since you won't have access to DataFrames, you are encouraged to us Python's native data structures - preferably dictionaries, though some questions can also be answered using lists.\n",
    "You can read more on these data structures here: https://docs.python.org/3/tutorial/datastructures.html"
   ]
  },
  {
   "cell_type": "markdown",
   "metadata": {},
   "source": [
    "Keep in mind that the JSON responses you will be getting from the API map almost one-to-one to Python's dictionaries. Unfortunately, they can be very nested, so make sure you read up on indexing dictionaries in the documentation provided above."
   ]
  },
  {
   "cell_type": "code",
   "execution_count": 4,
   "metadata": {
    "jupyter": {
     "outputs_hidden": true
    }
   },
   "outputs": [],
   "source": [
    "# First, import the relevant modules\n",
    "\n",
    "import requests\n",
    "import json"
   ]
  },
  {
   "cell_type": "markdown",
   "metadata": {},
   "source": [
    "Note: API's can change a bit with each version, for this exercise it is reccomended to use the \"V3\" quandl api at `https://www.quandl.com/api/v3/`"
   ]
  },
  {
   "cell_type": "code",
   "execution_count": 5,
   "metadata": {
    "jupyter": {
     "outputs_hidden": true
    }
   },
   "outputs": [
    {
     "name": "stdout",
     "output_type": "stream",
     "text": [
      "{'datatable': {'data': [], 'columns': [{'name': 'ticker', 'type': 'text'}, {'name': 'dimension', 'type': 'text'}, {'name': 'calendardate', 'type': 'Date'}, {'name': 'datekey', 'type': 'Date'}, {'name': 'reportperiod', 'type': 'Date'}, {'name': 'fiscalperiod', 'type': 'text'}, {'name': 'lastupdated', 'type': 'Date'}, {'name': 'accoci', 'type': 'Integer'}, {'name': 'assets', 'type': 'Integer'}, {'name': 'assetsavg', 'type': 'Integer'}, {'name': 'assetsc', 'type': 'Integer'}, {'name': 'assetsnc', 'type': 'Integer'}, {'name': 'assetturnover', 'type': 'double'}, {'name': 'bvps', 'type': 'double'}, {'name': 'capex', 'type': 'Integer'}, {'name': 'cashneq', 'type': 'Integer'}, {'name': 'cashnequsd', 'type': 'Integer'}, {'name': 'cor', 'type': 'Integer'}, {'name': 'consolinc', 'type': 'Integer'}, {'name': 'currentratio', 'type': 'double'}, {'name': 'de', 'type': 'double'}, {'name': 'debt', 'type': 'Integer'}, {'name': 'debtc', 'type': 'Integer'}, {'name': 'debtnc', 'type': 'Integer'}, {'name': 'debtusd', 'type': 'Integer'}, {'name': 'deferredrev', 'type': 'Integer'}, {'name': 'depamor', 'type': 'Integer'}, {'name': 'deposits', 'type': 'Integer'}, {'name': 'divyield', 'type': 'double'}, {'name': 'dps', 'type': 'double'}, {'name': 'ebit', 'type': 'Integer'}, {'name': 'ebitda', 'type': 'Integer'}, {'name': 'ebitdamargin', 'type': 'double'}, {'name': 'ebitdausd', 'type': 'Integer'}, {'name': 'ebitusd', 'type': 'Integer'}, {'name': 'ebt', 'type': 'Integer'}, {'name': 'eps', 'type': 'double'}, {'name': 'epsdil', 'type': 'double'}, {'name': 'epsusd', 'type': 'double'}, {'name': 'equity', 'type': 'Integer'}, {'name': 'equityavg', 'type': 'Integer'}, {'name': 'equityusd', 'type': 'Integer'}, {'name': 'ev', 'type': 'Integer'}, {'name': 'evebit', 'type': 'Integer'}, {'name': 'evebitda', 'type': 'double'}, {'name': 'fcf', 'type': 'Integer'}, {'name': 'fcfps', 'type': 'double'}, {'name': 'fxusd', 'type': 'double'}, {'name': 'gp', 'type': 'Integer'}, {'name': 'grossmargin', 'type': 'double'}, {'name': 'intangibles', 'type': 'Integer'}, {'name': 'intexp', 'type': 'Integer'}, {'name': 'invcap', 'type': 'Integer'}, {'name': 'invcapavg', 'type': 'Integer'}, {'name': 'inventory', 'type': 'Integer'}, {'name': 'investments', 'type': 'Integer'}, {'name': 'investmentsc', 'type': 'Integer'}, {'name': 'investmentsnc', 'type': 'Integer'}, {'name': 'liabilities', 'type': 'Integer'}, {'name': 'liabilitiesc', 'type': 'Integer'}, {'name': 'liabilitiesnc', 'type': 'Integer'}, {'name': 'marketcap', 'type': 'Integer'}, {'name': 'ncf', 'type': 'Integer'}, {'name': 'ncfbus', 'type': 'Integer'}, {'name': 'ncfcommon', 'type': 'Integer'}, {'name': 'ncfdebt', 'type': 'Integer'}, {'name': 'ncfdiv', 'type': 'Integer'}, {'name': 'ncff', 'type': 'Integer'}, {'name': 'ncfi', 'type': 'Integer'}, {'name': 'ncfinv', 'type': 'Integer'}, {'name': 'ncfo', 'type': 'Integer'}, {'name': 'ncfx', 'type': 'Integer'}, {'name': 'netinc', 'type': 'Integer'}, {'name': 'netinccmn', 'type': 'Integer'}, {'name': 'netinccmnusd', 'type': 'Integer'}, {'name': 'netincdis', 'type': 'Integer'}, {'name': 'netincnci', 'type': 'Integer'}, {'name': 'netmargin', 'type': 'double'}, {'name': 'opex', 'type': 'Integer'}, {'name': 'opinc', 'type': 'Integer'}, {'name': 'payables', 'type': 'Integer'}, {'name': 'payoutratio', 'type': 'double'}, {'name': 'pb', 'type': 'double'}, {'name': 'pe', 'type': 'double'}, {'name': 'pe1', 'type': 'double'}, {'name': 'ppnenet', 'type': 'Integer'}, {'name': 'prefdivis', 'type': 'Integer'}, {'name': 'price', 'type': 'double'}, {'name': 'ps', 'type': 'double'}, {'name': 'ps1', 'type': 'double'}, {'name': 'receivables', 'type': 'Integer'}, {'name': 'retearn', 'type': 'Integer'}, {'name': 'revenue', 'type': 'Integer'}, {'name': 'revenueusd', 'type': 'Integer'}, {'name': 'rnd', 'type': 'Integer'}, {'name': 'roa', 'type': 'double'}, {'name': 'roe', 'type': 'double'}, {'name': 'roic', 'type': 'double'}, {'name': 'ros', 'type': 'double'}, {'name': 'sbcomp', 'type': 'Integer'}, {'name': 'sgna', 'type': 'Integer'}, {'name': 'sharefactor', 'type': 'double'}, {'name': 'sharesbas', 'type': 'Integer'}, {'name': 'shareswa', 'type': 'Integer'}, {'name': 'shareswadil', 'type': 'Integer'}, {'name': 'sps', 'type': 'double'}, {'name': 'tangibles', 'type': 'Integer'}, {'name': 'taxassets', 'type': 'Integer'}, {'name': 'taxexp', 'type': 'Integer'}, {'name': 'taxliabilities', 'type': 'Integer'}, {'name': 'tbvps', 'type': 'double'}, {'name': 'workingcapital', 'type': 'Integer'}]}, 'meta': {'next_cursor_id': None}}\n"
     ]
    }
   ],
   "source": [
    "\n",
    "# Specify the Quandl API URL\n",
    "url = 'https://www.quandl.com/api/v3/datatables/SHARADAR/SF1'\n",
    "\n",
    "# Define query parameters\n",
    "params = {\n",
    "    'ticker': 'AFX_X',\n",
    "    'dimension': 'MRY',\n",
    "    'calendardate.gte': '2017-01-01',\n",
    "    'calendardate.lte': '2017-12-31',\n",
    "    'api_key': 'TExdGJqoVsdKNEsCA__x'\n",
    "}\n",
    "\n",
    "# Make the API request\n",
    "response = requests.get(url, params=params)\n",
    "\n",
    "# Parse the JSON response\n",
    "data = json.loads(response.text)\n",
    "print(data)"
   ]
  },
  {
   "cell_type": "code",
   "execution_count": 6,
   "metadata": {
    "jupyter": {
     "outputs_hidden": true
    }
   },
   "outputs": [
    {
     "ename": "FileNotFoundError",
     "evalue": "[Errno 2] No such file or directory: '/mnt/data/api_data_wrangling_mini_project-checkpoint.ipynb'",
     "output_type": "error",
     "traceback": [
      "\u001b[1;31m---------------------------------------------------------------------------\u001b[0m",
      "\u001b[1;31mFileNotFoundError\u001b[0m                         Traceback (most recent call last)",
      "Cell \u001b[1;32mIn[6], line 10\u001b[0m\n\u001b[0;32m      7\u001b[0m notebook_path \u001b[38;5;241m=\u001b[39m \u001b[38;5;124m'\u001b[39m\u001b[38;5;124m/mnt/data/api_data_wrangling_mini_project-checkpoint.ipynb\u001b[39m\u001b[38;5;124m'\u001b[39m\n\u001b[0;32m      9\u001b[0m \u001b[38;5;66;03m# Read the notebook content\u001b[39;00m\n\u001b[1;32m---> 10\u001b[0m \u001b[38;5;28;01mwith\u001b[39;00m \u001b[38;5;28;43mopen\u001b[39;49m\u001b[43m(\u001b[49m\u001b[43mnotebook_path\u001b[49m\u001b[43m,\u001b[49m\u001b[43m \u001b[49m\u001b[38;5;124;43m'\u001b[39;49m\u001b[38;5;124;43mr\u001b[39;49m\u001b[38;5;124;43m'\u001b[39;49m\u001b[43m)\u001b[49m \u001b[38;5;28;01mas\u001b[39;00m file:\n\u001b[0;32m     11\u001b[0m     notebook_content \u001b[38;5;241m=\u001b[39m nbformat\u001b[38;5;241m.\u001b[39mread(file, as_version\u001b[38;5;241m=\u001b[39m\u001b[38;5;241m4\u001b[39m)\n\u001b[0;32m     13\u001b[0m \u001b[38;5;66;03m# Display the first few cells to understand its structure and contents\u001b[39;00m\n",
      "File \u001b[1;32m~\\anaconda3\\lib\\site-packages\\IPython\\core\\interactiveshell.py:282\u001b[0m, in \u001b[0;36m_modified_open\u001b[1;34m(file, *args, **kwargs)\u001b[0m\n\u001b[0;32m    275\u001b[0m \u001b[38;5;28;01mif\u001b[39;00m file \u001b[38;5;129;01min\u001b[39;00m {\u001b[38;5;241m0\u001b[39m, \u001b[38;5;241m1\u001b[39m, \u001b[38;5;241m2\u001b[39m}:\n\u001b[0;32m    276\u001b[0m     \u001b[38;5;28;01mraise\u001b[39;00m \u001b[38;5;167;01mValueError\u001b[39;00m(\n\u001b[0;32m    277\u001b[0m         \u001b[38;5;124mf\u001b[39m\u001b[38;5;124m\"\u001b[39m\u001b[38;5;124mIPython won\u001b[39m\u001b[38;5;124m'\u001b[39m\u001b[38;5;124mt let you open fd=\u001b[39m\u001b[38;5;132;01m{\u001b[39;00mfile\u001b[38;5;132;01m}\u001b[39;00m\u001b[38;5;124m by default \u001b[39m\u001b[38;5;124m\"\u001b[39m\n\u001b[0;32m    278\u001b[0m         \u001b[38;5;124m\"\u001b[39m\u001b[38;5;124mas it is likely to crash IPython. If you know what you are doing, \u001b[39m\u001b[38;5;124m\"\u001b[39m\n\u001b[0;32m    279\u001b[0m         \u001b[38;5;124m\"\u001b[39m\u001b[38;5;124myou can use builtins\u001b[39m\u001b[38;5;124m'\u001b[39m\u001b[38;5;124m open.\u001b[39m\u001b[38;5;124m\"\u001b[39m\n\u001b[0;32m    280\u001b[0m     )\n\u001b[1;32m--> 282\u001b[0m \u001b[38;5;28;01mreturn\u001b[39;00m io_open(file, \u001b[38;5;241m*\u001b[39margs, \u001b[38;5;241m*\u001b[39m\u001b[38;5;241m*\u001b[39mkwargs)\n",
      "\u001b[1;31mFileNotFoundError\u001b[0m: [Errno 2] No such file or directory: '/mnt/data/api_data_wrangling_mini_project-checkpoint.ipynb'"
     ]
    }
   ],
   "source": [
    "# Inspect the JSON structure of the object you created, and take note of how nested it is,\n",
    "# as well as the overall structure\n",
    "\n",
    "import nbformat\n",
    "\n",
    "# Load the notebook files\n",
    "notebook_path = '/mnt/data/api_data_wrangling_mini_project-checkpoint.ipynb'\n",
    "\n",
    "# Read the notebook content\n",
    "with open(notebook_path, 'r') as file:\n",
    "    notebook_content = nbformat.read(file, as_version=4)\n",
    "\n",
    "# Display the first few cells to understand its structure and contents\n",
    "notebook_content.cells[:5]\n"
   ]
  },
  {
   "cell_type": "markdown",
   "metadata": {},
   "source": [
    "These are your tasks for this mini project:\n",
    "\n",
    "1. Collect data from the Franfurt Stock Exchange, for the ticker AFX_X, for the whole year 2017 (keep in mind that the date format is YYYY-MM-DD).\n",
    "2. Convert the returned JSON object into a Python dictionary.\n",
    "3. Calculate what the highest and lowest opening prices were for the stock in this period.\n",
    "4. What was the largest change in any one day (based on High and Low price)?\n",
    "5. What was the largest change between any two days (based on Closing Price)?\n",
    "6. What was the average daily trading volume during this year?\n",
    "7. (Optional) What was the median trading volume during this year. (Note: you may need to implement your own function for calculating the median.)"
   ]
  },
  {
   "cell_type": "code",
   "execution_count": 7,
   "metadata": {},
   "outputs": [
    {
     "name": "stdout",
     "output_type": "stream",
     "text": [
      "{'datatable': {'data': [], 'columns': [{'name': 'ticker', 'type': 'text'}, {'name': 'dimension', 'type': 'text'}, {'name': 'calendardate', 'type': 'Date'}, {'name': 'datekey', 'type': 'Date'}, {'name': 'reportperiod', 'type': 'Date'}, {'name': 'fiscalperiod', 'type': 'text'}, {'name': 'lastupdated', 'type': 'Date'}, {'name': 'accoci', 'type': 'Integer'}, {'name': 'assets', 'type': 'Integer'}, {'name': 'assetsavg', 'type': 'Integer'}, {'name': 'assetsc', 'type': 'Integer'}, {'name': 'assetsnc', 'type': 'Integer'}, {'name': 'assetturnover', 'type': 'double'}, {'name': 'bvps', 'type': 'double'}, {'name': 'capex', 'type': 'Integer'}, {'name': 'cashneq', 'type': 'Integer'}, {'name': 'cashnequsd', 'type': 'Integer'}, {'name': 'cor', 'type': 'Integer'}, {'name': 'consolinc', 'type': 'Integer'}, {'name': 'currentratio', 'type': 'double'}, {'name': 'de', 'type': 'double'}, {'name': 'debt', 'type': 'Integer'}, {'name': 'debtc', 'type': 'Integer'}, {'name': 'debtnc', 'type': 'Integer'}, {'name': 'debtusd', 'type': 'Integer'}, {'name': 'deferredrev', 'type': 'Integer'}, {'name': 'depamor', 'type': 'Integer'}, {'name': 'deposits', 'type': 'Integer'}, {'name': 'divyield', 'type': 'double'}, {'name': 'dps', 'type': 'double'}, {'name': 'ebit', 'type': 'Integer'}, {'name': 'ebitda', 'type': 'Integer'}, {'name': 'ebitdamargin', 'type': 'double'}, {'name': 'ebitdausd', 'type': 'Integer'}, {'name': 'ebitusd', 'type': 'Integer'}, {'name': 'ebt', 'type': 'Integer'}, {'name': 'eps', 'type': 'double'}, {'name': 'epsdil', 'type': 'double'}, {'name': 'epsusd', 'type': 'double'}, {'name': 'equity', 'type': 'Integer'}, {'name': 'equityavg', 'type': 'Integer'}, {'name': 'equityusd', 'type': 'Integer'}, {'name': 'ev', 'type': 'Integer'}, {'name': 'evebit', 'type': 'Integer'}, {'name': 'evebitda', 'type': 'double'}, {'name': 'fcf', 'type': 'Integer'}, {'name': 'fcfps', 'type': 'double'}, {'name': 'fxusd', 'type': 'double'}, {'name': 'gp', 'type': 'Integer'}, {'name': 'grossmargin', 'type': 'double'}, {'name': 'intangibles', 'type': 'Integer'}, {'name': 'intexp', 'type': 'Integer'}, {'name': 'invcap', 'type': 'Integer'}, {'name': 'invcapavg', 'type': 'Integer'}, {'name': 'inventory', 'type': 'Integer'}, {'name': 'investments', 'type': 'Integer'}, {'name': 'investmentsc', 'type': 'Integer'}, {'name': 'investmentsnc', 'type': 'Integer'}, {'name': 'liabilities', 'type': 'Integer'}, {'name': 'liabilitiesc', 'type': 'Integer'}, {'name': 'liabilitiesnc', 'type': 'Integer'}, {'name': 'marketcap', 'type': 'Integer'}, {'name': 'ncf', 'type': 'Integer'}, {'name': 'ncfbus', 'type': 'Integer'}, {'name': 'ncfcommon', 'type': 'Integer'}, {'name': 'ncfdebt', 'type': 'Integer'}, {'name': 'ncfdiv', 'type': 'Integer'}, {'name': 'ncff', 'type': 'Integer'}, {'name': 'ncfi', 'type': 'Integer'}, {'name': 'ncfinv', 'type': 'Integer'}, {'name': 'ncfo', 'type': 'Integer'}, {'name': 'ncfx', 'type': 'Integer'}, {'name': 'netinc', 'type': 'Integer'}, {'name': 'netinccmn', 'type': 'Integer'}, {'name': 'netinccmnusd', 'type': 'Integer'}, {'name': 'netincdis', 'type': 'Integer'}, {'name': 'netincnci', 'type': 'Integer'}, {'name': 'netmargin', 'type': 'double'}, {'name': 'opex', 'type': 'Integer'}, {'name': 'opinc', 'type': 'Integer'}, {'name': 'payables', 'type': 'Integer'}, {'name': 'payoutratio', 'type': 'double'}, {'name': 'pb', 'type': 'double'}, {'name': 'pe', 'type': 'double'}, {'name': 'pe1', 'type': 'double'}, {'name': 'ppnenet', 'type': 'Integer'}, {'name': 'prefdivis', 'type': 'Integer'}, {'name': 'price', 'type': 'double'}, {'name': 'ps', 'type': 'double'}, {'name': 'ps1', 'type': 'double'}, {'name': 'receivables', 'type': 'Integer'}, {'name': 'retearn', 'type': 'Integer'}, {'name': 'revenue', 'type': 'Integer'}, {'name': 'revenueusd', 'type': 'Integer'}, {'name': 'rnd', 'type': 'Integer'}, {'name': 'roa', 'type': 'double'}, {'name': 'roe', 'type': 'double'}, {'name': 'roic', 'type': 'double'}, {'name': 'ros', 'type': 'double'}, {'name': 'sbcomp', 'type': 'Integer'}, {'name': 'sgna', 'type': 'Integer'}, {'name': 'sharefactor', 'type': 'double'}, {'name': 'sharesbas', 'type': 'Integer'}, {'name': 'shareswa', 'type': 'Integer'}, {'name': 'shareswadil', 'type': 'Integer'}, {'name': 'sps', 'type': 'double'}, {'name': 'tangibles', 'type': 'Integer'}, {'name': 'taxassets', 'type': 'Integer'}, {'name': 'taxexp', 'type': 'Integer'}, {'name': 'taxliabilities', 'type': 'Integer'}, {'name': 'tbvps', 'type': 'double'}, {'name': 'workingcapital', 'type': 'Integer'}]}, 'meta': {'next_cursor_id': None}}\n"
     ]
    }
   ],
   "source": [
    "\n",
    "\n",
    "# Specify the Quandl API URL for the Frankfurt Stock Exchange\n",
    "url = 'https://www.quandl.com/api/v3/datatables/SHARADAR/SF1'\n",
    "\n",
    "# Define query parameters\n",
    "params = {\n",
    "    'ticker': 'AFX_X',\n",
    "    'dimension': 'MRY',\n",
    "    'calendardate.gte': '2017-01-01',\n",
    "    'calendardate.lte': '2017-12-31',\n",
    "    'api_key': 'TExdGJqoVsdKNEsCA__x'  \n",
    "}\n",
    "\n",
    "# Make the API request\n",
    "response = requests.get(url, params=params)\n",
    "\n",
    "# Parse the JSON response\n",
    "data = json.loads(response.text)\n",
    "print(data)"
   ]
  },
  {
   "cell_type": "code",
   "execution_count": 8,
   "metadata": {},
   "outputs": [
    {
     "name": "stdout",
     "output_type": "stream",
     "text": [
      "<class 'dict'>\n",
      "{'datatable': {'data': [], 'columns': [{'name': 'ticker', 'type': 'text'}, {'name': 'dimension', 'type': 'text'}, {'name': 'calendardate', 'type': 'Date'}, {'name': 'datekey', 'type': 'Date'}, {'name': 'reportperiod', 'type': 'Date'}, {'name': 'fiscalperiod', 'type': 'text'}, {'name': 'lastupdated', 'type': 'Date'}, {'name': 'accoci', 'type': 'Integer'}, {'name': 'assets', 'type': 'Integer'}, {'name': 'assetsavg', 'type': 'Integer'}, {'name': 'assetsc', 'type': 'Integer'}, {'name': 'assetsnc', 'type': 'Integer'}, {'name': 'assetturnover', 'type': 'double'}, {'name': 'bvps', 'type': 'double'}, {'name': 'capex', 'type': 'Integer'}, {'name': 'cashneq', 'type': 'Integer'}, {'name': 'cashnequsd', 'type': 'Integer'}, {'name': 'cor', 'type': 'Integer'}, {'name': 'consolinc', 'type': 'Integer'}, {'name': 'currentratio', 'type': 'double'}, {'name': 'de', 'type': 'double'}, {'name': 'debt', 'type': 'Integer'}, {'name': 'debtc', 'type': 'Integer'}, {'name': 'debtnc', 'type': 'Integer'}, {'name': 'debtusd', 'type': 'Integer'}, {'name': 'deferredrev', 'type': 'Integer'}, {'name': 'depamor', 'type': 'Integer'}, {'name': 'deposits', 'type': 'Integer'}, {'name': 'divyield', 'type': 'double'}, {'name': 'dps', 'type': 'double'}, {'name': 'ebit', 'type': 'Integer'}, {'name': 'ebitda', 'type': 'Integer'}, {'name': 'ebitdamargin', 'type': 'double'}, {'name': 'ebitdausd', 'type': 'Integer'}, {'name': 'ebitusd', 'type': 'Integer'}, {'name': 'ebt', 'type': 'Integer'}, {'name': 'eps', 'type': 'double'}, {'name': 'epsdil', 'type': 'double'}, {'name': 'epsusd', 'type': 'double'}, {'name': 'equity', 'type': 'Integer'}, {'name': 'equityavg', 'type': 'Integer'}, {'name': 'equityusd', 'type': 'Integer'}, {'name': 'ev', 'type': 'Integer'}, {'name': 'evebit', 'type': 'Integer'}, {'name': 'evebitda', 'type': 'double'}, {'name': 'fcf', 'type': 'Integer'}, {'name': 'fcfps', 'type': 'double'}, {'name': 'fxusd', 'type': 'double'}, {'name': 'gp', 'type': 'Integer'}, {'name': 'grossmargin', 'type': 'double'}, {'name': 'intangibles', 'type': 'Integer'}, {'name': 'intexp', 'type': 'Integer'}, {'name': 'invcap', 'type': 'Integer'}, {'name': 'invcapavg', 'type': 'Integer'}, {'name': 'inventory', 'type': 'Integer'}, {'name': 'investments', 'type': 'Integer'}, {'name': 'investmentsc', 'type': 'Integer'}, {'name': 'investmentsnc', 'type': 'Integer'}, {'name': 'liabilities', 'type': 'Integer'}, {'name': 'liabilitiesc', 'type': 'Integer'}, {'name': 'liabilitiesnc', 'type': 'Integer'}, {'name': 'marketcap', 'type': 'Integer'}, {'name': 'ncf', 'type': 'Integer'}, {'name': 'ncfbus', 'type': 'Integer'}, {'name': 'ncfcommon', 'type': 'Integer'}, {'name': 'ncfdebt', 'type': 'Integer'}, {'name': 'ncfdiv', 'type': 'Integer'}, {'name': 'ncff', 'type': 'Integer'}, {'name': 'ncfi', 'type': 'Integer'}, {'name': 'ncfinv', 'type': 'Integer'}, {'name': 'ncfo', 'type': 'Integer'}, {'name': 'ncfx', 'type': 'Integer'}, {'name': 'netinc', 'type': 'Integer'}, {'name': 'netinccmn', 'type': 'Integer'}, {'name': 'netinccmnusd', 'type': 'Integer'}, {'name': 'netincdis', 'type': 'Integer'}, {'name': 'netincnci', 'type': 'Integer'}, {'name': 'netmargin', 'type': 'double'}, {'name': 'opex', 'type': 'Integer'}, {'name': 'opinc', 'type': 'Integer'}, {'name': 'payables', 'type': 'Integer'}, {'name': 'payoutratio', 'type': 'double'}, {'name': 'pb', 'type': 'double'}, {'name': 'pe', 'type': 'double'}, {'name': 'pe1', 'type': 'double'}, {'name': 'ppnenet', 'type': 'Integer'}, {'name': 'prefdivis', 'type': 'Integer'}, {'name': 'price', 'type': 'double'}, {'name': 'ps', 'type': 'double'}, {'name': 'ps1', 'type': 'double'}, {'name': 'receivables', 'type': 'Integer'}, {'name': 'retearn', 'type': 'Integer'}, {'name': 'revenue', 'type': 'Integer'}, {'name': 'revenueusd', 'type': 'Integer'}, {'name': 'rnd', 'type': 'Integer'}, {'name': 'roa', 'type': 'double'}, {'name': 'roe', 'type': 'double'}, {'name': 'roic', 'type': 'double'}, {'name': 'ros', 'type': 'double'}, {'name': 'sbcomp', 'type': 'Integer'}, {'name': 'sgna', 'type': 'Integer'}, {'name': 'sharefactor', 'type': 'double'}, {'name': 'sharesbas', 'type': 'Integer'}, {'name': 'shareswa', 'type': 'Integer'}, {'name': 'shareswadil', 'type': 'Integer'}, {'name': 'sps', 'type': 'double'}, {'name': 'tangibles', 'type': 'Integer'}, {'name': 'taxassets', 'type': 'Integer'}, {'name': 'taxexp', 'type': 'Integer'}, {'name': 'taxliabilities', 'type': 'Integer'}, {'name': 'tbvps', 'type': 'double'}, {'name': 'workingcapital', 'type': 'Integer'}]}, 'meta': {'next_cursor_id': None}}\n"
     ]
    }
   ],
   "source": [
    "# Specify the Quandl API URL for the Frankfurt Stock Exchange\n",
    "url = 'https://www.quandl.com/api/v3/datatables/SHARADAR/SF1'\n",
    "\n",
    "# Define query parameters\n",
    "params = {\n",
    "    'ticker': 'AFX_X',\n",
    "    'dimension': 'MRY',\n",
    "    'calendardate.gte': '2017-01-01',\n",
    "    'calendardate.lte': '2017-12-31',\n",
    "    'api_key': 'TExdGJqoVsdKNEsCA__x'\n",
    "}\n",
    "\n",
    "# Make the API request\n",
    "response = requests.get(url, params=params)\n",
    "\n",
    "# Parse the JSON response into a Python dictionary\n",
    "data_dict = json.loads(response.text)\n",
    "\n",
    "print(type(data_dict))  # Print the type of the converted dictionary\n",
    "print(data_dict)  # Print the converted dictionary"
   ]
  },
  {
   "cell_type": "code",
   "execution_count": 13,
   "metadata": {},
   "outputs": [
    {
     "name": "stdout",
     "output_type": "stream",
     "text": [
      "Largest change in any one day (based on High and Low price): 246673999999.339\n"
     ]
    }
   ],
   "source": [
    "import requests\n",
    "import json\n",
    "\n",
    "# Specify the Quandl API URL\n",
    "url = 'https://www.quandl.com/api/v3/datatables/SHARADAR/SF1'\n",
    "\n",
    "# Define query parameters\n",
    "params = {\n",
    "    'ticker': 'AAPL',  # Use a valid ticker symbol\n",
    "    'dimension': 'MRY',\n",
    "    'calendardate.gte': '2017-01-01',\n",
    "    'calendardate.lte': '2017-12-31',\n",
    "    'api_key': 'TExdGJqoVsdKNEsCA__x'\n",
    "}\n",
    "\n",
    "# Make the API request\n",
    "response = requests.get(url, params=params)\n",
    "\n",
    "# Parse the JSON response into a Python dictionary\n",
    "data_dict = response.json()\n",
    "\n",
    "# Check if the datatable and data keys exist in the response\n",
    "if 'datatable' in data_dict and 'data' in data_dict['datatable']:\n",
    "    # Extract high and low prices from the data\n",
    "    high_prices = [entry[11] for entry in data_dict['datatable']['data'] if entry[11] is not None]\n",
    "    low_prices = [entry[12] for entry in data_dict['datatable']['data'] if entry[12] is not None]\n",
    "\n",
    "    # Calculate the differences between high and low prices for each day\n",
    "    price_changes = [high - low for high, low in zip(high_prices, low_prices)]\n",
    "\n",
    "    # Find the largest change in any one day\n",
    "    largest_change = max(price_changes)\n",
    "\n",
    "    print(\"Largest change in any one day (based on High and Low price):\", largest_change)\n",
    "else:\n",
    "    print(\"No data available or incorrect format.\")"
   ]
  },
  {
   "cell_type": "code",
   "execution_count": 14,
   "metadata": {},
   "outputs": [
    {
     "name": "stdout",
     "output_type": "stream",
     "text": [
      "Average daily trading volume during the year: 1.276\n"
     ]
    }
   ],
   "source": [
    "import requests\n",
    "import json\n",
    "\n",
    "# Specify the Quandl API URL\n",
    "url = 'https://www.quandl.com/api/v3/datatables/SHARADAR/SF1'\n",
    "\n",
    "# Define query parameters\n",
    "params = {\n",
    "    'ticker': 'AAPL',  # Use a valid ticker symbol\n",
    "    'dimension': 'MRY',\n",
    "    'calendardate.gte': '2017-01-01',\n",
    "    'calendardate.lte': '2017-12-31',\n",
    "    'api_key': 'TExdGJqoVsdKNEsCA__x' \n",
    "}\n",
    "\n",
    "# Make the API request\n",
    "response = requests.get(url, params=params)\n",
    "\n",
    "# Parse the JSON response into a Python dictionary\n",
    "data_dict = response.json()\n",
    "\n",
    "# Check if the datatable and data keys exist in the response\n",
    "if 'datatable' in data_dict and 'data' in data_dict['datatable']:\n",
    "    # Extract trading volumes from the data\n",
    "    # Assuming 'volume' is the 20th column in the response (adjust based on actual data structure)\n",
    "    volume_index = 19  # Adjust this index based on actual data structure\n",
    "\n",
    "    trading_volumes = [entry[volume_index] for entry in data_dict['datatable']['data'] if entry[volume_index] is not None]\n",
    "\n",
    "    # Calculate the average daily trading volume\n",
    "    if trading_volumes:  # Check if the list is not empty\n",
    "        average_daily_volume = sum(trading_volumes) / len(trading_volumes)\n",
    "        print(\"Average daily trading volume during the year:\", average_daily_volume)\n",
    "    else:\n",
    "        print(\"No trading volume data available.\")\n",
    "else:\n",
    "    print(\"No data available or incorrect format.\")"
   ]
  },
  {
   "cell_type": "code",
   "execution_count": null,
   "metadata": {},
   "outputs": [],
   "source": []
  }
 ],
 "metadata": {
  "kernelspec": {
   "display_name": "Python 3 (ipykernel)",
   "language": "python",
   "name": "python3"
  },
  "language_info": {
   "codemirror_mode": {
    "name": "ipython",
    "version": 3
   },
   "file_extension": ".py",
   "mimetype": "text/x-python",
   "name": "python",
   "nbconvert_exporter": "python",
   "pygments_lexer": "ipython3",
   "version": "3.10.9"
  }
 },
 "nbformat": 4,
 "nbformat_minor": 4
}
